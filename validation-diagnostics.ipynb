{
 "cells": [
  {
   "cell_type": "code",
   "execution_count": 1,
   "metadata": {},
   "outputs": [
    {
     "name": "stdout",
     "output_type": "stream",
     "text": [
      "INFO:tensorflow:Mixed precision compatibility check (mixed_float16): OK\n",
      "Your GPU will likely run quickly with dtype policy mixed_float16 as it has compute capability of at least 7.0. Your GPU: NVIDIA GeForce RTX 3090, compute capability 8.6\n",
      "# Loading data... "
     ]
    }
   ],
   "source": [
    "import pandas as pd\n",
    "import numpy as np\n",
    "import time, os, sys, gc, json\n",
    "\n",
    "from Models.framework_utils import *\n",
    "from Models.diagnostic_utils import *\n",
    "\n",
    "# load numerapi\n",
    "# public_id, secret_key = get_numerapi_config()\n",
    "# napi, modelnameids = get_napi_and_models(public_id, secret_key)\n",
    "\n",
    "# load data\n",
    "ds_version = \"v4.2\"\n",
    "dataset_loc = os.path.join(os.getcwd(), 'train_datasets', ds_version)\n",
    "# currentRound = get_update_training_data(napi, dataset_loc, ds_version)\n",
    "\n",
    "np.random.seed(42)\n",
    "print(\"# Loading data... \",end='')\n",
    "\n",
    "# validation data V*\n",
    "validation, VI, targets = processData(os.path.join(dataset_loc, 'validation_int8.parquet'), return_target_names=True)\n",
    "\n",
    "with open(os.path.join(dataset_loc, \"features.json\"), \"r\") as f:\n",
    "    feature_metadata = json.load(f)\n",
    "feature_sets = feature_metadata['feature_sets']\n",
    "\n",
    "BVP = pd.read_parquet(os.path.join(dataset_loc, 'validation_benchmark_models.parquet'),engine=\"fastparquet\")\n",
    "ids = BVP.index.values"
   ]
  },
  {
   "cell_type": "code",
   "execution_count": 2,
   "metadata": {},
   "outputs": [
    {
     "name": "stdout",
     "output_type": "stream",
     "text": [
      "[<module 'Models.DCNMultiMix' from 's:\\\\DS Projects\\\\Competitions\\\\Numerai-v2\\\\Models\\\\DCNMultiMix.py'>, <module 'Models.DCNNbase' from 's:\\\\DS Projects\\\\Competitions\\\\Numerai-v2\\\\Models\\\\DCNNbase.py'>, <module 'Models.DCNNtmix' from 's:\\\\DS Projects\\\\Competitions\\\\Numerai-v2\\\\Models\\\\DCNNtmix.py'>, <module 'Models.DCNNtmnt' from 's:\\\\DS Projects\\\\Competitions\\\\Numerai-v2\\\\Models\\\\DCNNtmnt.py'>, <module 'Models.DCNV4' from 's:\\\\DS Projects\\\\Competitions\\\\Numerai-v2\\\\Models\\\\DCNV4.py'>, <module 'Models.DCNV4EXP' from 's:\\\\DS Projects\\\\Competitions\\\\Numerai-v2\\\\Models\\\\DCNV4EXP.py'>, <module 'Models.DCNV5e14' from 's:\\\\DS Projects\\\\Competitions\\\\Numerai-v2\\\\Models\\\\DCNV5e14.py'>, <module 'Models.DCNV5e17' from 's:\\\\DS Projects\\\\Competitions\\\\Numerai-v2\\\\Models\\\\DCNV5e17.py'>, <module 'Models.DCNV5e9' from 's:\\\\DS Projects\\\\Competitions\\\\Numerai-v2\\\\Models\\\\DCNV5e9.py'>, <module 'Models.DNNV6' from 's:\\\\DS Projects\\\\Competitions\\\\Numerai-v2\\\\Models\\\\DNNV6.py'>, <module 'Models.ENA' from 's:\\\\DS Projects\\\\Competitions\\\\Numerai-v2\\\\Models\\\\ENA.py'>]\n"
     ]
    }
   ],
   "source": [
    "import Models\n",
    "Mods = [Models.__dict__[x] for x in Models.models]\n",
    "print(Mods)"
   ]
  },
  {
   "cell_type": "code",
   "execution_count": 3,
   "metadata": {},
   "outputs": [
    {
     "ename": "AttributeError",
     "evalue": "module 'Models.DCNMultiMix' has no attribute 'submit_on'",
     "output_type": "error",
     "traceback": [
      "\u001b[1;31m---------------------------------------------------------------------------\u001b[0m",
      "\u001b[1;31mAttributeError\u001b[0m                            Traceback (most recent call last)",
      "Cell \u001b[1;32mIn[3], line 3\u001b[0m\n\u001b[0;32m      1\u001b[0m prediction_names \u001b[38;5;241m=\u001b[39m []\n\u001b[0;32m      2\u001b[0m \u001b[38;5;28;01mfor\u001b[39;00m mod \u001b[38;5;129;01min\u001b[39;00m Mods:\n\u001b[1;32m----> 3\u001b[0m     \u001b[38;5;28;01mfor\u001b[39;00m submit_name \u001b[38;5;129;01min\u001b[39;00m \u001b[43mmod\u001b[49m\u001b[38;5;241;43m.\u001b[39;49m\u001b[43msubmit_on\u001b[49m:\n\u001b[0;32m      4\u001b[0m         prediction_names\u001b[38;5;241m.\u001b[39mappend(mod\u001b[38;5;241m.\u001b[39mname \u001b[38;5;241m+\u001b[39m \u001b[38;5;124m\"\u001b[39m\u001b[38;5;124m_\u001b[39m\u001b[38;5;124m\"\u001b[39m \u001b[38;5;241m+\u001b[39m submit_name)\n",
      "\u001b[1;31mAttributeError\u001b[0m: module 'Models.DCNMultiMix' has no attribute 'submit_on'"
     ]
    }
   ],
   "source": [
    "prediction_names = []\n",
    "for mod in Mods:\n",
    "    for submit_name in mod.submit_on:\n",
    "        prediction_names.append(mod.name + \"_\" + submit_name)"
   ]
  },
  {
   "cell_type": "code",
   "execution_count": null,
   "metadata": {},
   "outputs": [
    {
     "data": {
      "text/plain": [
       "['LightGBM_yourmodelnamehere']"
      ]
     },
     "execution_count": 4,
     "metadata": {},
     "output_type": "execute_result"
    }
   ],
   "source": [
    "prediction_names"
   ]
  },
  {
   "cell_type": "code",
   "execution_count": null,
   "metadata": {},
   "outputs": [],
   "source": [
    "predictions = get_validation_predictions()"
   ]
  },
  {
   "cell_type": "code",
   "execution_count": null,
   "metadata": {},
   "outputs": [
    {
     "name": "stdout",
     "output_type": "stream",
     "text": [
      "making predictions... done\n",
      "saving validation predictions for LightGBM ['yourmodelnamehere']\n",
      "                 id  prediction\n",
      "0  n000101811a8a843    0.490641\n",
      "1  n001e1318d5072ac    0.502775\n",
      "2  n002a9c5ab785cbb    0.491644\n",
      "# Writing predictions to validation_LightGBM_yourmodelnamehere.csv... done\n"
     ]
    }
   ],
   "source": [
    "def updateModelValidationPredictions(model):\n",
    "    # get the corresponding predictions for all submit_on\n",
    "    VP = np.full((len(validation), len(model.submit_on)), np.nan)\n",
    "\n",
    "    for i, submit_name in enumerate(model.submit_on):\n",
    "        full_name = model.name + \"_\" + submit_name\n",
    "        if full_name in predictions:\n",
    "            preds = predictions[full_name]\n",
    "            VP[:len(preds), i] = preds\n",
    "\n",
    "    # find the latest era where we don't have predictions\n",
    "    startEra = 0\n",
    "    for I in VI:\n",
    "        if np.isnan(VP[I]).any(): break\n",
    "        startEra += 1\n",
    "\n",
    "    print(\"making predictions for \"+model.name+\"...\",end=' ')\n",
    "    # make predictions\n",
    "    if model.ensembled:\n",
    "        newPreds = model.predict(validation, VI[startEra:], feature_sets, {key: value[startEra:] for key, value in predictions.items()})\n",
    "    else:\n",
    "        newPreds = model.predict(validation, VI[startEra:], feature_sets)\n",
    "    if len(newPreds.shape) == 1: newPreds = newPreds.reshape(-1, 1)\n",
    "    VP[startEra:, :] = newPreds\n",
    "\n",
    "    for i, submit_name in enumerate(model.submit_on):\n",
    "        predictions[model.name + \"_\" + submit_name] = VP\n",
    "    print(\"done\")\n",
    "\n",
    "    # save predictions\n",
    "    saveValidationPredictions(VP, model, ids)\n",
    "\n",
    "for model in Mods:\n",
    "    if not model.ensembled:\n",
    "        updateModelValidationPredictions(model)\n",
    "for model in Mods:\n",
    "    if model.ensembled:\n",
    "        updateModelValidationPredictions(model)\n",
    "\n",
    "\n",
    "\n",
    "    \n",
    "# produce pretty graphs and diagnostics for everything\n",
    "# should find better name for Models directory/module"
   ]
  },
  {
   "cell_type": "code",
   "execution_count": null,
   "metadata": {},
   "outputs": [
    {
     "data": {
      "text/plain": [
       "{'LightGBM_yourmodelnamehere': array([[0.49064106],\n",
       "        [0.5027753 ],\n",
       "        [0.49164446],\n",
       "        ...,\n",
       "        [0.5030672 ],\n",
       "        [0.5284548 ],\n",
       "        [0.49681808]])}"
      ]
     },
     "execution_count": 7,
     "metadata": {},
     "output_type": "execute_result"
    }
   ],
   "source": [
    "predictions"
   ]
  },
  {
   "cell_type": "code",
   "execution_count": null,
   "metadata": {},
   "outputs": [],
   "source": []
  }
 ],
 "metadata": {
  "kernelspec": {
   "display_name": "Python 3",
   "language": "python",
   "name": "python3"
  },
  "language_info": {
   "codemirror_mode": {
    "name": "ipython",
    "version": 3
   },
   "file_extension": ".py",
   "mimetype": "text/x-python",
   "name": "python",
   "nbconvert_exporter": "python",
   "pygments_lexer": "ipython3",
   "version": "3.10.11"
  }
 },
 "nbformat": 4,
 "nbformat_minor": 2
}
