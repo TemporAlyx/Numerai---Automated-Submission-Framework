{
 "cells": [
  {
   "cell_type": "code",
   "execution_count": null,
   "metadata": {},
   "outputs": [],
   "source": [
    "from Models.framework_utils import *\n",
    "from Models.diagnostic_utils import *\n",
    "\n",
    "# load numerapi\n",
    "public_id, secret_key = get_numerapi_config()\n",
    "napi, modelnameids = get_napi_and_models(public_id, secret_key)\n",
    "\n",
    "# load data\n",
    "ds_version = \"v4.2\"\n",
    "dataset_loc = os.path.join(os.getcwd(), 'train_datasets', ds_version)\n",
    "currentRound = get_update_training_data(napi, dataset_loc, ds_version)"
   ]
  },
  {
   "cell_type": "code",
   "execution_count": null,
   "metadata": {},
   "outputs": [],
   "source": [
    "np.random.seed(42)\n",
    "print(\"# Loading data... \",end='')\n",
    "\n",
    "# training data T* | X = features, I = era indices\n",
    "train, TI, targets = processData(os.path.join(dataset_loc, 'train_int8.parquet'), return_target_names=True)\n",
    "\n",
    "# validation data V*\n",
    "validation, VI = processData(os.path.join(dataset_loc, 'validation_int8.parquet'), return_target_names=False)\n",
    "\n",
    "with open(os.path.join(dataset_loc, \"features.json\"), \"r\") as f:\n",
    "    feature_metadata = json.load(f)\n",
    "feature_sets = feature_metadata['feature_sets']\n",
    "\n",
    "BVP = pd.read_parquet(os.path.join(dataset_loc, 'validation_benchmark_models.parquet'),engine=\"fastparquet\")\n",
    "\n",
    "gc.collect()\n",
    "print(\"done\")"
   ]
  },
  {
   "cell_type": "code",
   "execution_count": null,
   "metadata": {},
   "outputs": [],
   "source": [
    "import lightgbm\n",
    "\n",
    "params = {\"n_estimators\": 200, # 2000\n",
    "          \"learning_rate\": 0.1, # 0.01\n",
    "          \"max_depth\": 4, # 5\n",
    "          \"num_leaves\": 2 ** 4 - 1, # 2 ** 5 - 1\n",
    "          \"colsample_bytree\": 0.10} # 0.1\n",
    "\n",
    "lgbm_model = lightgbm.LGBMRegressor(**params)\n",
    "\n",
    "lgbm_model.fit(train[feature_sets['all_features']], train['target'])"
   ]
  },
  {
   "cell_type": "code",
   "execution_count": null,
   "metadata": {},
   "outputs": [],
   "source": [
    "VP = lgbm_model.predict(validation[feature_sets['all_features']])"
   ]
  },
  {
   "cell_type": "code",
   "execution_count": null,
   "metadata": {},
   "outputs": [],
   "source": [
    "VId = VI[5:-5] # remove first 5 eras of validation to prevent lookahead bias from the training data, remove last 5 as they are unresolved\n",
    "validation_diagnostics, validation_corrs = run_diagnostics(VP,validation['target'],validation[feature_sets['fnc_v3_features']], VId, featexp=True, fnc=True, \n",
    "                                                           print_output=True, graph_corrs=True, compare={'example_preds': BVP['v42_teager_plus_cyrus']})"
   ]
  },
  {
   "cell_type": "code",
   "execution_count": null,
   "metadata": {},
   "outputs": [],
   "source": [
    "lgbm_model.booster_.save_model(os.path.join(os.getcwd(), 'Models', 'Modeldata', 'lgbm_model.txt'))\n",
    "np.save(os.path.join(os.getcwd(), 'Models', 'Modeldata', 'lgbm_model_features.npy'), feature_sets['all_features'])"
   ]
  }
 ],
 "metadata": {
  "kernelspec": {
   "display_name": "Python 3 (ipykernel)",
   "language": "python",
   "name": "python3"
  },
  "language_info": {
   "codemirror_mode": {
    "name": "ipython",
    "version": 3
   },
   "file_extension": ".py",
   "mimetype": "text/x-python",
   "name": "python",
   "nbconvert_exporter": "python",
   "pygments_lexer": "ipython3",
   "version": "3.10.11"
  },
  "varInspector": {
   "cols": {
    "lenName": 16,
    "lenType": 16,
    "lenVar": 40
   },
   "kernels_config": {
    "python": {
     "delete_cmd_postfix": "",
     "delete_cmd_prefix": "del ",
     "library": "var_list.py",
     "varRefreshCmd": "print(var_dic_list())"
    },
    "r": {
     "delete_cmd_postfix": ") ",
     "delete_cmd_prefix": "rm(",
     "library": "var_list.r",
     "varRefreshCmd": "cat(var_dic_list()) "
    }
   },
   "position": {
    "height": "731.983px",
    "left": "1168.33px",
    "right": "20px",
    "top": "95px",
    "width": "640.667px"
   },
   "types_to_exclude": [
    "module",
    "function",
    "builtin_function_or_method",
    "instance",
    "_Feature"
   ],
   "window_display": false
  }
 },
 "nbformat": 4,
 "nbformat_minor": 2
}
